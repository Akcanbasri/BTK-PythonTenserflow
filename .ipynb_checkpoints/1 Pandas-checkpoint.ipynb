{
 "cells": [
  {
   "cell_type": "markdown",
   "id": "834d6082",
   "metadata": {},
   "source": [
    "#  Pandas"
   ]
  },
  {
   "cell_type": "code",
   "execution_count": 1,
   "id": "a16adef4",
   "metadata": {},
   "outputs": [],
   "source": [
    "import numpy as np\n",
    "import pandas as pd "
   ]
  },
  {
   "cell_type": "code",
   "execution_count": 2,
   "id": "99ee0cc5",
   "metadata": {},
   "outputs": [],
   "source": [
    "benimSozlugum = {\"Atil\" : 50, \"Zeynep\" : 40, \"Mehmet\" : 30}"
   ]
  },
  {
   "cell_type": "code",
   "execution_count": 3,
   "id": "fd3252fb",
   "metadata": {},
   "outputs": [
    {
     "data": {
      "text/plain": [
       "Atil      50\n",
       "Zeynep    40\n",
       "Mehmet    30\n",
       "dtype: int64"
      ]
     },
     "execution_count": 3,
     "metadata": {},
     "output_type": "execute_result"
    }
   ],
   "source": [
    "pd.Series(benimSozlugum)"
   ]
  },
  {
   "cell_type": "code",
   "execution_count": 4,
   "id": "d8e7a47a",
   "metadata": {},
   "outputs": [],
   "source": [
    "benimYaslarım = [10,25,16]\n",
    "benimİsimlerim = [\"Hasan\", \"Basri\", \"Akcan\"]"
   ]
  },
  {
   "cell_type": "code",
   "execution_count": 5,
   "id": "af9446c1",
   "metadata": {},
   "outputs": [
    {
     "data": {
      "text/plain": [
       "0    10\n",
       "1    25\n",
       "2    16\n",
       "dtype: int64"
      ]
     },
     "execution_count": 5,
     "metadata": {},
     "output_type": "execute_result"
    }
   ],
   "source": [
    "pd.Series(benimYaslarım)"
   ]
  },
  {
   "cell_type": "code",
   "execution_count": 6,
   "id": "da0f393d",
   "metadata": {},
   "outputs": [
    {
     "data": {
      "text/plain": [
       "Hasan    10\n",
       "Basri    25\n",
       "Akcan    16\n",
       "dtype: int64"
      ]
     },
     "execution_count": 6,
     "metadata": {},
     "output_type": "execute_result"
    }
   ],
   "source": [
    "pd.Series(benimYaslarım,benimİsimlerim)"
   ]
  },
  {
   "cell_type": "code",
   "execution_count": 8,
   "id": "767941f9",
   "metadata": {},
   "outputs": [
    {
     "data": {
      "text/plain": [
       "Hasan    10\n",
       "Basri    25\n",
       "Akcan    16\n",
       "dtype: int64"
      ]
     },
     "execution_count": 8,
     "metadata": {},
     "output_type": "execute_result"
    }
   ],
   "source": [
    "pd.Series(data=benimYaslarım, index=benimİsimlerim)"
   ]
  },
  {
   "cell_type": "code",
   "execution_count": 9,
   "id": "e278a26c",
   "metadata": {},
   "outputs": [],
   "source": [
    "numpyDizisi = np.array([50,40,30])"
   ]
  },
  {
   "cell_type": "code",
   "execution_count": 10,
   "id": "c4b59da4",
   "metadata": {},
   "outputs": [
    {
     "data": {
      "text/plain": [
       "0    50\n",
       "1    40\n",
       "2    30\n",
       "dtype: int32"
      ]
     },
     "execution_count": 10,
     "metadata": {},
     "output_type": "execute_result"
    }
   ],
   "source": [
    "pd.Series(numpyDizisi)"
   ]
  },
  {
   "cell_type": "code",
   "execution_count": 11,
   "id": "d98ac17a",
   "metadata": {},
   "outputs": [
    {
     "data": {
      "text/plain": [
       "Hasan    50\n",
       "Basri    40\n",
       "Akcan    30\n",
       "dtype: int32"
      ]
     },
     "execution_count": 11,
     "metadata": {},
     "output_type": "execute_result"
    }
   ],
   "source": [
    "pd.Series(numpyDizisi,benimİsimlerim)"
   ]
  },
  {
   "cell_type": "code",
   "execution_count": 12,
   "id": "87f889ee",
   "metadata": {},
   "outputs": [
    {
     "data": {
      "text/plain": [
       "1     Atil\n",
       "2    Atlas\n",
       "3    Osman\n",
       "dtype: object"
      ]
     },
     "execution_count": 12,
     "metadata": {},
     "output_type": "execute_result"
    }
   ],
   "source": [
    "pd.Series([\"Atil\",\"Atlas\",\"Osman\"],[1,2,3])"
   ]
  },
  {
   "cell_type": "code",
   "execution_count": 13,
   "id": "71b03347",
   "metadata": {},
   "outputs": [],
   "source": [
    "yarismaSonucu1 = pd.Series([10,5,1],[\"Atil\",\"Atlas\",\"Osman\"])"
   ]
  },
  {
   "cell_type": "code",
   "execution_count": 14,
   "id": "294d900d",
   "metadata": {},
   "outputs": [],
   "source": [
    "yarismaSonucu2 = pd.Series([20,10,8],[\"Atil\",\"Atlas\",\"Osman\"])"
   ]
  },
  {
   "cell_type": "code",
   "execution_count": 15,
   "id": "0fcf7375",
   "metadata": {},
   "outputs": [
    {
     "data": {
      "text/plain": [
       "Atil     10\n",
       "Atlas     5\n",
       "Osman     1\n",
       "dtype: int64"
      ]
     },
     "execution_count": 15,
     "metadata": {},
     "output_type": "execute_result"
    }
   ],
   "source": [
    "yarismaSonucu1"
   ]
  },
  {
   "cell_type": "code",
   "execution_count": 16,
   "id": "a18b7262",
   "metadata": {},
   "outputs": [
    {
     "data": {
      "text/plain": [
       "Atil     20\n",
       "Atlas    10\n",
       "Osman     8\n",
       "dtype: int64"
      ]
     },
     "execution_count": 16,
     "metadata": {},
     "output_type": "execute_result"
    }
   ],
   "source": [
    "yarismaSonucu2"
   ]
  },
  {
   "cell_type": "code",
   "execution_count": 17,
   "id": "bfa4c33e",
   "metadata": {},
   "outputs": [
    {
     "data": {
      "text/plain": [
       "10"
      ]
     },
     "execution_count": 17,
     "metadata": {},
     "output_type": "execute_result"
    }
   ],
   "source": [
    " yarismaSonucu2[\"Atlas\"]"
   ]
  },
  {
   "cell_type": "code",
   "execution_count": 18,
   "id": "176e4dcd",
   "metadata": {},
   "outputs": [],
   "source": [
    "son_sonuc = yarismaSonucu1 + yarismaSonucu2"
   ]
  },
  {
   "cell_type": "code",
   "execution_count": 19,
   "id": "fc565113",
   "metadata": {},
   "outputs": [
    {
     "data": {
      "text/plain": [
       "Atil     30\n",
       "Atlas    15\n",
       "Osman     9\n",
       "dtype: int64"
      ]
     },
     "execution_count": 19,
     "metadata": {},
     "output_type": "execute_result"
    }
   ],
   "source": [
    "son_sonuc\n"
   ]
  },
  {
   "cell_type": "code",
   "execution_count": 20,
   "id": "d7e85684",
   "metadata": {},
   "outputs": [],
   "source": [
    "farkliSeries = pd.Series([20,30,40,50],[\"a\",\"b\",\"c\",\"d\"])\n",
    "farkliSeries2 = pd.Series([10,5,3,1],[\"a\",\"c\",\"f\",\"g\"])"
   ]
  },
  {
   "cell_type": "code",
   "execution_count": 21,
   "id": "3848475a",
   "metadata": {},
   "outputs": [
    {
     "data": {
      "text/plain": [
       "a    20\n",
       "b    30\n",
       "c    40\n",
       "d    50\n",
       "dtype: int64"
      ]
     },
     "execution_count": 21,
     "metadata": {},
     "output_type": "execute_result"
    }
   ],
   "source": [
    "farkliSeries"
   ]
  },
  {
   "cell_type": "code",
   "execution_count": 22,
   "id": "8041b44b",
   "metadata": {},
   "outputs": [
    {
     "data": {
      "text/plain": [
       "a    10\n",
       "c     5\n",
       "f     3\n",
       "g     1\n",
       "dtype: int64"
      ]
     },
     "execution_count": 22,
     "metadata": {},
     "output_type": "execute_result"
    }
   ],
   "source": [
    "farkliSeries2"
   ]
  },
  {
   "cell_type": "code",
   "execution_count": 23,
   "id": "f1845012",
   "metadata": {},
   "outputs": [
    {
     "data": {
      "text/plain": [
       "a    30.0\n",
       "b     NaN\n",
       "c    45.0\n",
       "d     NaN\n",
       "f     NaN\n",
       "g     NaN\n",
       "dtype: float64"
      ]
     },
     "execution_count": 23,
     "metadata": {},
     "output_type": "execute_result"
    }
   ],
   "source": [
    "farkliSeries + farkliSeries2"
   ]
  },
  {
   "cell_type": "code",
   "execution_count": null,
   "id": "6e9177bd",
   "metadata": {},
   "outputs": [],
   "source": []
  }
 ],
 "metadata": {
  "kernelspec": {
   "display_name": "Python 3 (ipykernel)",
   "language": "python",
   "name": "python3"
  },
  "language_info": {
   "codemirror_mode": {
    "name": "ipython",
    "version": 3
   },
   "file_extension": ".py",
   "mimetype": "text/x-python",
   "name": "python",
   "nbconvert_exporter": "python",
   "pygments_lexer": "ipython3",
   "version": "3.10.9"
  }
 },
 "nbformat": 4,
 "nbformat_minor": 5
}
