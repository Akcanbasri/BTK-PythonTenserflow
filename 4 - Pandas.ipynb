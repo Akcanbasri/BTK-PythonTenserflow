{
 "cells": [
  {
   "cell_type": "code",
   "execution_count": 1,
   "id": "fe538f49",
   "metadata": {},
   "outputs": [],
   "source": [
    "import numpy as np \n",
    "import pandas as pd "
   ]
  },
  {
   "cell_type": "code",
   "execution_count": 2,
   "id": "3dc0594e",
   "metadata": {},
   "outputs": [],
   "source": [
    "data = np.random.randn(4,3)"
   ]
  },
  {
   "cell_type": "code",
   "execution_count": 3,
   "id": "9dc060bb",
   "metadata": {},
   "outputs": [
    {
     "data": {
      "text/plain": [
       "array([[-0.18517376,  0.66242935,  1.0889344 ],\n",
       "       [ 1.99453388,  1.63329276,  0.14676762],\n",
       "       [ 0.28431508, -0.01513223,  1.13377965],\n",
       "       [-0.16121345, -0.57797772,  2.41660602]])"
      ]
     },
     "execution_count": 3,
     "metadata": {},
     "output_type": "execute_result"
    }
   ],
   "source": [
    "data"
   ]
  },
  {
   "cell_type": "code",
   "execution_count": 4,
   "id": "5f3b6efc",
   "metadata": {},
   "outputs": [],
   "source": [
    "dataFrame = pd.DataFrame(data)"
   ]
  },
  {
   "cell_type": "code",
   "execution_count": 5,
   "id": "f3c0b97f",
   "metadata": {},
   "outputs": [
    {
     "data": {
      "text/html": [
       "<div>\n",
       "<style scoped>\n",
       "    .dataframe tbody tr th:only-of-type {\n",
       "        vertical-align: middle;\n",
       "    }\n",
       "\n",
       "    .dataframe tbody tr th {\n",
       "        vertical-align: top;\n",
       "    }\n",
       "\n",
       "    .dataframe thead th {\n",
       "        text-align: right;\n",
       "    }\n",
       "</style>\n",
       "<table border=\"1\" class=\"dataframe\">\n",
       "  <thead>\n",
       "    <tr style=\"text-align: right;\">\n",
       "      <th></th>\n",
       "      <th>0</th>\n",
       "      <th>1</th>\n",
       "      <th>2</th>\n",
       "    </tr>\n",
       "  </thead>\n",
       "  <tbody>\n",
       "    <tr>\n",
       "      <th>0</th>\n",
       "      <td>-0.185174</td>\n",
       "      <td>0.662429</td>\n",
       "      <td>1.088934</td>\n",
       "    </tr>\n",
       "    <tr>\n",
       "      <th>1</th>\n",
       "      <td>1.994534</td>\n",
       "      <td>1.633293</td>\n",
       "      <td>0.146768</td>\n",
       "    </tr>\n",
       "    <tr>\n",
       "      <th>2</th>\n",
       "      <td>0.284315</td>\n",
       "      <td>-0.015132</td>\n",
       "      <td>1.133780</td>\n",
       "    </tr>\n",
       "    <tr>\n",
       "      <th>3</th>\n",
       "      <td>-0.161213</td>\n",
       "      <td>-0.577978</td>\n",
       "      <td>2.416606</td>\n",
       "    </tr>\n",
       "  </tbody>\n",
       "</table>\n",
       "</div>"
      ],
      "text/plain": [
       "          0         1         2\n",
       "0 -0.185174  0.662429  1.088934\n",
       "1  1.994534  1.633293  0.146768\n",
       "2  0.284315 -0.015132  1.133780\n",
       "3 -0.161213 -0.577978  2.416606"
      ]
     },
     "execution_count": 5,
     "metadata": {},
     "output_type": "execute_result"
    }
   ],
   "source": [
    "dataFrame"
   ]
  },
  {
   "cell_type": "code",
   "execution_count": 6,
   "id": "fb849fb7",
   "metadata": {},
   "outputs": [
    {
     "data": {
      "text/plain": [
       "pandas.core.series.Series"
      ]
     },
     "execution_count": 6,
     "metadata": {},
     "output_type": "execute_result"
    }
   ],
   "source": [
    "type(dataFrame[0])"
   ]
  },
  {
   "cell_type": "code",
   "execution_count": 7,
   "id": "0ecdc0fd",
   "metadata": {},
   "outputs": [],
   "source": [
    "yeniDataFrame = pd.DataFrame(data,index=[\"Şule\",\"Hasan\",\"Atıl\",\"Mustafa\"],columns=[\"yas\",\"maas\",\"calisma saati\"])"
   ]
  },
  {
   "cell_type": "code",
   "execution_count": 8,
   "id": "69ff9cb6",
   "metadata": {},
   "outputs": [
    {
     "data": {
      "text/html": [
       "<div>\n",
       "<style scoped>\n",
       "    .dataframe tbody tr th:only-of-type {\n",
       "        vertical-align: middle;\n",
       "    }\n",
       "\n",
       "    .dataframe tbody tr th {\n",
       "        vertical-align: top;\n",
       "    }\n",
       "\n",
       "    .dataframe thead th {\n",
       "        text-align: right;\n",
       "    }\n",
       "</style>\n",
       "<table border=\"1\" class=\"dataframe\">\n",
       "  <thead>\n",
       "    <tr style=\"text-align: right;\">\n",
       "      <th></th>\n",
       "      <th>yas</th>\n",
       "      <th>maas</th>\n",
       "      <th>calisma saati</th>\n",
       "    </tr>\n",
       "  </thead>\n",
       "  <tbody>\n",
       "    <tr>\n",
       "      <th>Şule</th>\n",
       "      <td>-0.185174</td>\n",
       "      <td>0.662429</td>\n",
       "      <td>1.088934</td>\n",
       "    </tr>\n",
       "    <tr>\n",
       "      <th>Hasan</th>\n",
       "      <td>1.994534</td>\n",
       "      <td>1.633293</td>\n",
       "      <td>0.146768</td>\n",
       "    </tr>\n",
       "    <tr>\n",
       "      <th>Atıl</th>\n",
       "      <td>0.284315</td>\n",
       "      <td>-0.015132</td>\n",
       "      <td>1.133780</td>\n",
       "    </tr>\n",
       "    <tr>\n",
       "      <th>Mustafa</th>\n",
       "      <td>-0.161213</td>\n",
       "      <td>-0.577978</td>\n",
       "      <td>2.416606</td>\n",
       "    </tr>\n",
       "  </tbody>\n",
       "</table>\n",
       "</div>"
      ],
      "text/plain": [
       "              yas      maas  calisma saati\n",
       "Şule    -0.185174  0.662429       1.088934\n",
       "Hasan    1.994534  1.633293       0.146768\n",
       "Atıl     0.284315 -0.015132       1.133780\n",
       "Mustafa -0.161213 -0.577978       2.416606"
      ]
     },
     "execution_count": 8,
     "metadata": {},
     "output_type": "execute_result"
    }
   ],
   "source": [
    "yeniDataFrame"
   ]
  },
  {
   "cell_type": "code",
   "execution_count": 9,
   "id": "6c107b8e",
   "metadata": {},
   "outputs": [
    {
     "data": {
      "text/plain": [
       "Şule      -0.185174\n",
       "Hasan      1.994534\n",
       "Atıl       0.284315\n",
       "Mustafa   -0.161213\n",
       "Name: yas, dtype: float64"
      ]
     },
     "execution_count": 9,
     "metadata": {},
     "output_type": "execute_result"
    }
   ],
   "source": [
    "yeniDataFrame[\"yas\"]"
   ]
  },
  {
   "cell_type": "code",
   "execution_count": 10,
   "id": "8e9d1458",
   "metadata": {},
   "outputs": [
    {
     "data": {
      "text/plain": [
       "Şule       1.088934\n",
       "Hasan      0.146768\n",
       "Atıl       1.133780\n",
       "Mustafa    2.416606\n",
       "Name: calisma saati, dtype: float64"
      ]
     },
     "execution_count": 10,
     "metadata": {},
     "output_type": "execute_result"
    }
   ],
   "source": [
    "yeniDataFrame[\"calisma saati\"]"
   ]
  },
  {
   "cell_type": "code",
   "execution_count": 12,
   "id": "821e3dde",
   "metadata": {},
   "outputs": [
    {
     "data": {
      "text/html": [
       "<div>\n",
       "<style scoped>\n",
       "    .dataframe tbody tr th:only-of-type {\n",
       "        vertical-align: middle;\n",
       "    }\n",
       "\n",
       "    .dataframe tbody tr th {\n",
       "        vertical-align: top;\n",
       "    }\n",
       "\n",
       "    .dataframe thead th {\n",
       "        text-align: right;\n",
       "    }\n",
       "</style>\n",
       "<table border=\"1\" class=\"dataframe\">\n",
       "  <thead>\n",
       "    <tr style=\"text-align: right;\">\n",
       "      <th></th>\n",
       "      <th>maas</th>\n",
       "      <th>calisma saati</th>\n",
       "    </tr>\n",
       "  </thead>\n",
       "  <tbody>\n",
       "    <tr>\n",
       "      <th>Şule</th>\n",
       "      <td>0.662429</td>\n",
       "      <td>1.088934</td>\n",
       "    </tr>\n",
       "    <tr>\n",
       "      <th>Hasan</th>\n",
       "      <td>1.633293</td>\n",
       "      <td>0.146768</td>\n",
       "    </tr>\n",
       "    <tr>\n",
       "      <th>Atıl</th>\n",
       "      <td>-0.015132</td>\n",
       "      <td>1.133780</td>\n",
       "    </tr>\n",
       "    <tr>\n",
       "      <th>Mustafa</th>\n",
       "      <td>-0.577978</td>\n",
       "      <td>2.416606</td>\n",
       "    </tr>\n",
       "  </tbody>\n",
       "</table>\n",
       "</div>"
      ],
      "text/plain": [
       "             maas  calisma saati\n",
       "Şule     0.662429       1.088934\n",
       "Hasan    1.633293       0.146768\n",
       "Atıl    -0.015132       1.133780\n",
       "Mustafa -0.577978       2.416606"
      ]
     },
     "execution_count": 12,
     "metadata": {},
     "output_type": "execute_result"
    }
   ],
   "source": [
    "yeniDataFrame[[\"maas\",\"calisma saati\"]]"
   ]
  },
  {
   "cell_type": "code",
   "execution_count": 13,
   "id": "8813de52",
   "metadata": {},
   "outputs": [
    {
     "data": {
      "text/html": [
       "<div>\n",
       "<style scoped>\n",
       "    .dataframe tbody tr th:only-of-type {\n",
       "        vertical-align: middle;\n",
       "    }\n",
       "\n",
       "    .dataframe tbody tr th {\n",
       "        vertical-align: top;\n",
       "    }\n",
       "\n",
       "    .dataframe thead th {\n",
       "        text-align: right;\n",
       "    }\n",
       "</style>\n",
       "<table border=\"1\" class=\"dataframe\">\n",
       "  <thead>\n",
       "    <tr style=\"text-align: right;\">\n",
       "      <th></th>\n",
       "      <th>yas</th>\n",
       "      <th>maas</th>\n",
       "      <th>calisma saati</th>\n",
       "    </tr>\n",
       "  </thead>\n",
       "  <tbody>\n",
       "    <tr>\n",
       "      <th>Şule</th>\n",
       "      <td>-0.185174</td>\n",
       "      <td>0.662429</td>\n",
       "      <td>1.088934</td>\n",
       "    </tr>\n",
       "    <tr>\n",
       "      <th>Hasan</th>\n",
       "      <td>1.994534</td>\n",
       "      <td>1.633293</td>\n",
       "      <td>0.146768</td>\n",
       "    </tr>\n",
       "    <tr>\n",
       "      <th>Atıl</th>\n",
       "      <td>0.284315</td>\n",
       "      <td>-0.015132</td>\n",
       "      <td>1.133780</td>\n",
       "    </tr>\n",
       "    <tr>\n",
       "      <th>Mustafa</th>\n",
       "      <td>-0.161213</td>\n",
       "      <td>-0.577978</td>\n",
       "      <td>2.416606</td>\n",
       "    </tr>\n",
       "  </tbody>\n",
       "</table>\n",
       "</div>"
      ],
      "text/plain": [
       "              yas      maas  calisma saati\n",
       "Şule    -0.185174  0.662429       1.088934\n",
       "Hasan    1.994534  1.633293       0.146768\n",
       "Atıl     0.284315 -0.015132       1.133780\n",
       "Mustafa -0.161213 -0.577978       2.416606"
      ]
     },
     "execution_count": 13,
     "metadata": {},
     "output_type": "execute_result"
    }
   ],
   "source": [
    "yeniDataFrame"
   ]
  },
  {
   "cell_type": "code",
   "execution_count": 17,
   "id": "5a73691b",
   "metadata": {},
   "outputs": [
    {
     "data": {
      "text/plain": [
       "yas             -0.185174\n",
       "maas             0.662429\n",
       "calisma saati    1.088934\n",
       "Name: Şule, dtype: float64"
      ]
     },
     "execution_count": 17,
     "metadata": {},
     "output_type": "execute_result"
    }
   ],
   "source": [
    "yeniDataFrame.loc[\"Şule\"]"
   ]
  },
  {
   "cell_type": "code",
   "execution_count": 18,
   "id": "088fdb2c",
   "metadata": {},
   "outputs": [
    {
     "data": {
      "text/html": [
       "<div>\n",
       "<style scoped>\n",
       "    .dataframe tbody tr th:only-of-type {\n",
       "        vertical-align: middle;\n",
       "    }\n",
       "\n",
       "    .dataframe tbody tr th {\n",
       "        vertical-align: top;\n",
       "    }\n",
       "\n",
       "    .dataframe thead th {\n",
       "        text-align: right;\n",
       "    }\n",
       "</style>\n",
       "<table border=\"1\" class=\"dataframe\">\n",
       "  <thead>\n",
       "    <tr style=\"text-align: right;\">\n",
       "      <th></th>\n",
       "      <th>yas</th>\n",
       "      <th>maas</th>\n",
       "      <th>calisma saati</th>\n",
       "    </tr>\n",
       "  </thead>\n",
       "  <tbody>\n",
       "    <tr>\n",
       "      <th>Şule</th>\n",
       "      <td>-0.185174</td>\n",
       "      <td>0.662429</td>\n",
       "      <td>1.088934</td>\n",
       "    </tr>\n",
       "  </tbody>\n",
       "</table>\n",
       "</div>"
      ],
      "text/plain": [
       "           yas      maas  calisma saati\n",
       "Şule -0.185174  0.662429       1.088934"
      ]
     },
     "execution_count": 18,
     "metadata": {},
     "output_type": "execute_result"
    }
   ],
   "source": [
    "yeniDataFrame.iloc[:1, :]"
   ]
  },
  {
   "cell_type": "code",
   "execution_count": 21,
   "id": "c3e1631a",
   "metadata": {},
   "outputs": [],
   "source": [
    "# kolon ekleme\n",
    "\n",
    "yeniDataFrame[\"emeklilik\"] = yeniDataFrame[\"yas\"] *2"
   ]
  },
  {
   "cell_type": "code",
   "execution_count": 22,
   "id": "e779ca94",
   "metadata": {},
   "outputs": [
    {
     "data": {
      "text/html": [
       "<div>\n",
       "<style scoped>\n",
       "    .dataframe tbody tr th:only-of-type {\n",
       "        vertical-align: middle;\n",
       "    }\n",
       "\n",
       "    .dataframe tbody tr th {\n",
       "        vertical-align: top;\n",
       "    }\n",
       "\n",
       "    .dataframe thead th {\n",
       "        text-align: right;\n",
       "    }\n",
       "</style>\n",
       "<table border=\"1\" class=\"dataframe\">\n",
       "  <thead>\n",
       "    <tr style=\"text-align: right;\">\n",
       "      <th></th>\n",
       "      <th>yas</th>\n",
       "      <th>maas</th>\n",
       "      <th>calisma saati</th>\n",
       "      <th>emeklilik</th>\n",
       "    </tr>\n",
       "  </thead>\n",
       "  <tbody>\n",
       "    <tr>\n",
       "      <th>Şule</th>\n",
       "      <td>-0.185174</td>\n",
       "      <td>0.662429</td>\n",
       "      <td>1.088934</td>\n",
       "      <td>-0.370348</td>\n",
       "    </tr>\n",
       "    <tr>\n",
       "      <th>Hasan</th>\n",
       "      <td>1.994534</td>\n",
       "      <td>1.633293</td>\n",
       "      <td>0.146768</td>\n",
       "      <td>3.989068</td>\n",
       "    </tr>\n",
       "    <tr>\n",
       "      <th>Atıl</th>\n",
       "      <td>0.284315</td>\n",
       "      <td>-0.015132</td>\n",
       "      <td>1.133780</td>\n",
       "      <td>0.568630</td>\n",
       "    </tr>\n",
       "    <tr>\n",
       "      <th>Mustafa</th>\n",
       "      <td>-0.161213</td>\n",
       "      <td>-0.577978</td>\n",
       "      <td>2.416606</td>\n",
       "      <td>-0.322427</td>\n",
       "    </tr>\n",
       "  </tbody>\n",
       "</table>\n",
       "</div>"
      ],
      "text/plain": [
       "              yas      maas  calisma saati  emeklilik\n",
       "Şule    -0.185174  0.662429       1.088934  -0.370348\n",
       "Hasan    1.994534  1.633293       0.146768   3.989068\n",
       "Atıl     0.284315 -0.015132       1.133780   0.568630\n",
       "Mustafa -0.161213 -0.577978       2.416606  -0.322427"
      ]
     },
     "execution_count": 22,
     "metadata": {},
     "output_type": "execute_result"
    }
   ],
   "source": [
    "yeniDataFrame"
   ]
  },
  {
   "cell_type": "code",
   "execution_count": 24,
   "id": "f0bb42c0",
   "metadata": {},
   "outputs": [
    {
     "data": {
      "text/html": [
       "<div>\n",
       "<style scoped>\n",
       "    .dataframe tbody tr th:only-of-type {\n",
       "        vertical-align: middle;\n",
       "    }\n",
       "\n",
       "    .dataframe tbody tr th {\n",
       "        vertical-align: top;\n",
       "    }\n",
       "\n",
       "    .dataframe thead th {\n",
       "        text-align: right;\n",
       "    }\n",
       "</style>\n",
       "<table border=\"1\" class=\"dataframe\">\n",
       "  <thead>\n",
       "    <tr style=\"text-align: right;\">\n",
       "      <th></th>\n",
       "      <th>yas</th>\n",
       "      <th>maas</th>\n",
       "      <th>calisma saati</th>\n",
       "    </tr>\n",
       "  </thead>\n",
       "  <tbody>\n",
       "    <tr>\n",
       "      <th>Şule</th>\n",
       "      <td>-0.185174</td>\n",
       "      <td>0.662429</td>\n",
       "      <td>1.088934</td>\n",
       "    </tr>\n",
       "    <tr>\n",
       "      <th>Hasan</th>\n",
       "      <td>1.994534</td>\n",
       "      <td>1.633293</td>\n",
       "      <td>0.146768</td>\n",
       "    </tr>\n",
       "    <tr>\n",
       "      <th>Atıl</th>\n",
       "      <td>0.284315</td>\n",
       "      <td>-0.015132</td>\n",
       "      <td>1.133780</td>\n",
       "    </tr>\n",
       "    <tr>\n",
       "      <th>Mustafa</th>\n",
       "      <td>-0.161213</td>\n",
       "      <td>-0.577978</td>\n",
       "      <td>2.416606</td>\n",
       "    </tr>\n",
       "  </tbody>\n",
       "</table>\n",
       "</div>"
      ],
      "text/plain": [
       "              yas      maas  calisma saati\n",
       "Şule    -0.185174  0.662429       1.088934\n",
       "Hasan    1.994534  1.633293       0.146768\n",
       "Atıl     0.284315 -0.015132       1.133780\n",
       "Mustafa -0.161213 -0.577978       2.416606"
      ]
     },
     "execution_count": 24,
     "metadata": {},
     "output_type": "execute_result"
    }
   ],
   "source": [
    "# sutun silme\n",
    "yeniDataFrame.drop(\"emeklilik\",axis=1)"
   ]
  },
  {
   "cell_type": "code",
   "execution_count": 25,
   "id": "8079c578",
   "metadata": {},
   "outputs": [
    {
     "data": {
      "text/html": [
       "<div>\n",
       "<style scoped>\n",
       "    .dataframe tbody tr th:only-of-type {\n",
       "        vertical-align: middle;\n",
       "    }\n",
       "\n",
       "    .dataframe tbody tr th {\n",
       "        vertical-align: top;\n",
       "    }\n",
       "\n",
       "    .dataframe thead th {\n",
       "        text-align: right;\n",
       "    }\n",
       "</style>\n",
       "<table border=\"1\" class=\"dataframe\">\n",
       "  <thead>\n",
       "    <tr style=\"text-align: right;\">\n",
       "      <th></th>\n",
       "      <th>yas</th>\n",
       "      <th>maas</th>\n",
       "      <th>calisma saati</th>\n",
       "      <th>emeklilik</th>\n",
       "    </tr>\n",
       "  </thead>\n",
       "  <tbody>\n",
       "    <tr>\n",
       "      <th>Şule</th>\n",
       "      <td>-0.185174</td>\n",
       "      <td>0.662429</td>\n",
       "      <td>1.088934</td>\n",
       "      <td>-0.370348</td>\n",
       "    </tr>\n",
       "    <tr>\n",
       "      <th>Hasan</th>\n",
       "      <td>1.994534</td>\n",
       "      <td>1.633293</td>\n",
       "      <td>0.146768</td>\n",
       "      <td>3.989068</td>\n",
       "    </tr>\n",
       "    <tr>\n",
       "      <th>Atıl</th>\n",
       "      <td>0.284315</td>\n",
       "      <td>-0.015132</td>\n",
       "      <td>1.133780</td>\n",
       "      <td>0.568630</td>\n",
       "    </tr>\n",
       "    <tr>\n",
       "      <th>Mustafa</th>\n",
       "      <td>-0.161213</td>\n",
       "      <td>-0.577978</td>\n",
       "      <td>2.416606</td>\n",
       "      <td>-0.322427</td>\n",
       "    </tr>\n",
       "  </tbody>\n",
       "</table>\n",
       "</div>"
      ],
      "text/plain": [
       "              yas      maas  calisma saati  emeklilik\n",
       "Şule    -0.185174  0.662429       1.088934  -0.370348\n",
       "Hasan    1.994534  1.633293       0.146768   3.989068\n",
       "Atıl     0.284315 -0.015132       1.133780   0.568630\n",
       "Mustafa -0.161213 -0.577978       2.416606  -0.322427"
      ]
     },
     "execution_count": 25,
     "metadata": {},
     "output_type": "execute_result"
    }
   ],
   "source": [
    "yeniDataFrame"
   ]
  },
  {
   "cell_type": "code",
   "execution_count": 26,
   "id": "28270b77",
   "metadata": {},
   "outputs": [],
   "source": [
    "#sutunu tamamen silmek için inplace=True olmalı.\n",
    "yeniDataFrame.drop(\"emeklilik\",axis=1,inplace=True)"
   ]
  },
  {
   "cell_type": "code",
   "execution_count": 27,
   "id": "0906a322",
   "metadata": {},
   "outputs": [
    {
     "data": {
      "text/html": [
       "<div>\n",
       "<style scoped>\n",
       "    .dataframe tbody tr th:only-of-type {\n",
       "        vertical-align: middle;\n",
       "    }\n",
       "\n",
       "    .dataframe tbody tr th {\n",
       "        vertical-align: top;\n",
       "    }\n",
       "\n",
       "    .dataframe thead th {\n",
       "        text-align: right;\n",
       "    }\n",
       "</style>\n",
       "<table border=\"1\" class=\"dataframe\">\n",
       "  <thead>\n",
       "    <tr style=\"text-align: right;\">\n",
       "      <th></th>\n",
       "      <th>yas</th>\n",
       "      <th>maas</th>\n",
       "      <th>calisma saati</th>\n",
       "    </tr>\n",
       "  </thead>\n",
       "  <tbody>\n",
       "    <tr>\n",
       "      <th>Şule</th>\n",
       "      <td>-0.185174</td>\n",
       "      <td>0.662429</td>\n",
       "      <td>1.088934</td>\n",
       "    </tr>\n",
       "    <tr>\n",
       "      <th>Hasan</th>\n",
       "      <td>1.994534</td>\n",
       "      <td>1.633293</td>\n",
       "      <td>0.146768</td>\n",
       "    </tr>\n",
       "    <tr>\n",
       "      <th>Atıl</th>\n",
       "      <td>0.284315</td>\n",
       "      <td>-0.015132</td>\n",
       "      <td>1.133780</td>\n",
       "    </tr>\n",
       "    <tr>\n",
       "      <th>Mustafa</th>\n",
       "      <td>-0.161213</td>\n",
       "      <td>-0.577978</td>\n",
       "      <td>2.416606</td>\n",
       "    </tr>\n",
       "  </tbody>\n",
       "</table>\n",
       "</div>"
      ],
      "text/plain": [
       "              yas      maas  calisma saati\n",
       "Şule    -0.185174  0.662429       1.088934\n",
       "Hasan    1.994534  1.633293       0.146768\n",
       "Atıl     0.284315 -0.015132       1.133780\n",
       "Mustafa -0.161213 -0.577978       2.416606"
      ]
     },
     "execution_count": 27,
     "metadata": {},
     "output_type": "execute_result"
    }
   ],
   "source": [
    "yeniDataFrame\n"
   ]
  },
  {
   "cell_type": "code",
   "execution_count": 29,
   "id": "8b3e6d32",
   "metadata": {},
   "outputs": [
    {
     "data": {
      "text/plain": [
       "-0.1851737611442744"
      ]
     },
     "execution_count": 29,
     "metadata": {},
     "output_type": "execute_result"
    }
   ],
   "source": [
    "yeniDataFrame.loc[\"Şule\",\"yas\"]"
   ]
  },
  {
   "cell_type": "code",
   "execution_count": 30,
   "id": "d4f2490d",
   "metadata": {},
   "outputs": [
    {
     "data": {
      "text/html": [
       "<div>\n",
       "<style scoped>\n",
       "    .dataframe tbody tr th:only-of-type {\n",
       "        vertical-align: middle;\n",
       "    }\n",
       "\n",
       "    .dataframe tbody tr th {\n",
       "        vertical-align: top;\n",
       "    }\n",
       "\n",
       "    .dataframe thead th {\n",
       "        text-align: right;\n",
       "    }\n",
       "</style>\n",
       "<table border=\"1\" class=\"dataframe\">\n",
       "  <thead>\n",
       "    <tr style=\"text-align: right;\">\n",
       "      <th></th>\n",
       "      <th>yas</th>\n",
       "      <th>maas</th>\n",
       "      <th>calisma saati</th>\n",
       "    </tr>\n",
       "  </thead>\n",
       "  <tbody>\n",
       "    <tr>\n",
       "      <th>Şule</th>\n",
       "      <td>-0.185174</td>\n",
       "      <td>0.662429</td>\n",
       "      <td>1.088934</td>\n",
       "    </tr>\n",
       "    <tr>\n",
       "      <th>Hasan</th>\n",
       "      <td>1.994534</td>\n",
       "      <td>1.633293</td>\n",
       "      <td>0.146768</td>\n",
       "    </tr>\n",
       "    <tr>\n",
       "      <th>Atıl</th>\n",
       "      <td>0.284315</td>\n",
       "      <td>-0.015132</td>\n",
       "      <td>1.133780</td>\n",
       "    </tr>\n",
       "    <tr>\n",
       "      <th>Mustafa</th>\n",
       "      <td>-0.161213</td>\n",
       "      <td>-0.577978</td>\n",
       "      <td>2.416606</td>\n",
       "    </tr>\n",
       "  </tbody>\n",
       "</table>\n",
       "</div>"
      ],
      "text/plain": [
       "              yas      maas  calisma saati\n",
       "Şule    -0.185174  0.662429       1.088934\n",
       "Hasan    1.994534  1.633293       0.146768\n",
       "Atıl     0.284315 -0.015132       1.133780\n",
       "Mustafa -0.161213 -0.577978       2.416606"
      ]
     },
     "execution_count": 30,
     "metadata": {},
     "output_type": "execute_result"
    }
   ],
   "source": [
    "yeniDataFrame\n"
   ]
  },
  {
   "cell_type": "code",
   "execution_count": 31,
   "id": "8e026f31",
   "metadata": {},
   "outputs": [],
   "source": [
    "boolenFrame = yeniDataFrame < 0"
   ]
  },
  {
   "cell_type": "code",
   "execution_count": 32,
   "id": "ca1269a2",
   "metadata": {},
   "outputs": [
    {
     "data": {
      "text/html": [
       "<div>\n",
       "<style scoped>\n",
       "    .dataframe tbody tr th:only-of-type {\n",
       "        vertical-align: middle;\n",
       "    }\n",
       "\n",
       "    .dataframe tbody tr th {\n",
       "        vertical-align: top;\n",
       "    }\n",
       "\n",
       "    .dataframe thead th {\n",
       "        text-align: right;\n",
       "    }\n",
       "</style>\n",
       "<table border=\"1\" class=\"dataframe\">\n",
       "  <thead>\n",
       "    <tr style=\"text-align: right;\">\n",
       "      <th></th>\n",
       "      <th>yas</th>\n",
       "      <th>maas</th>\n",
       "      <th>calisma saati</th>\n",
       "    </tr>\n",
       "  </thead>\n",
       "  <tbody>\n",
       "    <tr>\n",
       "      <th>Şule</th>\n",
       "      <td>True</td>\n",
       "      <td>False</td>\n",
       "      <td>False</td>\n",
       "    </tr>\n",
       "    <tr>\n",
       "      <th>Hasan</th>\n",
       "      <td>False</td>\n",
       "      <td>False</td>\n",
       "      <td>False</td>\n",
       "    </tr>\n",
       "    <tr>\n",
       "      <th>Atıl</th>\n",
       "      <td>False</td>\n",
       "      <td>True</td>\n",
       "      <td>False</td>\n",
       "    </tr>\n",
       "    <tr>\n",
       "      <th>Mustafa</th>\n",
       "      <td>True</td>\n",
       "      <td>True</td>\n",
       "      <td>False</td>\n",
       "    </tr>\n",
       "  </tbody>\n",
       "</table>\n",
       "</div>"
      ],
      "text/plain": [
       "           yas   maas  calisma saati\n",
       "Şule      True  False          False\n",
       "Hasan    False  False          False\n",
       "Atıl     False   True          False\n",
       "Mustafa   True   True          False"
      ]
     },
     "execution_count": 32,
     "metadata": {},
     "output_type": "execute_result"
    }
   ],
   "source": [
    "boolenFrame"
   ]
  },
  {
   "cell_type": "code",
   "execution_count": 33,
   "id": "e97f3366",
   "metadata": {},
   "outputs": [
    {
     "data": {
      "text/html": [
       "<div>\n",
       "<style scoped>\n",
       "    .dataframe tbody tr th:only-of-type {\n",
       "        vertical-align: middle;\n",
       "    }\n",
       "\n",
       "    .dataframe tbody tr th {\n",
       "        vertical-align: top;\n",
       "    }\n",
       "\n",
       "    .dataframe thead th {\n",
       "        text-align: right;\n",
       "    }\n",
       "</style>\n",
       "<table border=\"1\" class=\"dataframe\">\n",
       "  <thead>\n",
       "    <tr style=\"text-align: right;\">\n",
       "      <th></th>\n",
       "      <th>yas</th>\n",
       "      <th>maas</th>\n",
       "      <th>calisma saati</th>\n",
       "    </tr>\n",
       "  </thead>\n",
       "  <tbody>\n",
       "    <tr>\n",
       "      <th>Şule</th>\n",
       "      <td>-0.185174</td>\n",
       "      <td>0.662429</td>\n",
       "      <td>1.088934</td>\n",
       "    </tr>\n",
       "    <tr>\n",
       "      <th>Hasan</th>\n",
       "      <td>1.994534</td>\n",
       "      <td>1.633293</td>\n",
       "      <td>0.146768</td>\n",
       "    </tr>\n",
       "    <tr>\n",
       "      <th>Atıl</th>\n",
       "      <td>0.284315</td>\n",
       "      <td>-0.015132</td>\n",
       "      <td>1.133780</td>\n",
       "    </tr>\n",
       "    <tr>\n",
       "      <th>Mustafa</th>\n",
       "      <td>-0.161213</td>\n",
       "      <td>-0.577978</td>\n",
       "      <td>2.416606</td>\n",
       "    </tr>\n",
       "  </tbody>\n",
       "</table>\n",
       "</div>"
      ],
      "text/plain": [
       "              yas      maas  calisma saati\n",
       "Şule    -0.185174  0.662429       1.088934\n",
       "Hasan    1.994534  1.633293       0.146768\n",
       "Atıl     0.284315 -0.015132       1.133780\n",
       "Mustafa -0.161213 -0.577978       2.416606"
      ]
     },
     "execution_count": 33,
     "metadata": {},
     "output_type": "execute_result"
    }
   ],
   "source": [
    "yeniDataFrame"
   ]
  },
  {
   "cell_type": "code",
   "execution_count": 34,
   "id": "947ce330",
   "metadata": {},
   "outputs": [
    {
     "data": {
      "text/html": [
       "<div>\n",
       "<style scoped>\n",
       "    .dataframe tbody tr th:only-of-type {\n",
       "        vertical-align: middle;\n",
       "    }\n",
       "\n",
       "    .dataframe tbody tr th {\n",
       "        vertical-align: top;\n",
       "    }\n",
       "\n",
       "    .dataframe thead th {\n",
       "        text-align: right;\n",
       "    }\n",
       "</style>\n",
       "<table border=\"1\" class=\"dataframe\">\n",
       "  <thead>\n",
       "    <tr style=\"text-align: right;\">\n",
       "      <th></th>\n",
       "      <th>yas</th>\n",
       "      <th>maas</th>\n",
       "      <th>calisma saati</th>\n",
       "    </tr>\n",
       "  </thead>\n",
       "  <tbody>\n",
       "    <tr>\n",
       "      <th>Şule</th>\n",
       "      <td>-0.185174</td>\n",
       "      <td>NaN</td>\n",
       "      <td>NaN</td>\n",
       "    </tr>\n",
       "    <tr>\n",
       "      <th>Hasan</th>\n",
       "      <td>NaN</td>\n",
       "      <td>NaN</td>\n",
       "      <td>NaN</td>\n",
       "    </tr>\n",
       "    <tr>\n",
       "      <th>Atıl</th>\n",
       "      <td>NaN</td>\n",
       "      <td>-0.015132</td>\n",
       "      <td>NaN</td>\n",
       "    </tr>\n",
       "    <tr>\n",
       "      <th>Mustafa</th>\n",
       "      <td>-0.161213</td>\n",
       "      <td>-0.577978</td>\n",
       "      <td>NaN</td>\n",
       "    </tr>\n",
       "  </tbody>\n",
       "</table>\n",
       "</div>"
      ],
      "text/plain": [
       "              yas      maas  calisma saati\n",
       "Şule    -0.185174       NaN            NaN\n",
       "Hasan         NaN       NaN            NaN\n",
       "Atıl          NaN -0.015132            NaN\n",
       "Mustafa -0.161213 -0.577978            NaN"
      ]
     },
     "execution_count": 34,
     "metadata": {},
     "output_type": "execute_result"
    }
   ],
   "source": [
    "yeniDataFrame[boolenFrame]"
   ]
  },
  {
   "cell_type": "code",
   "execution_count": 35,
   "id": "faa7f8f8",
   "metadata": {},
   "outputs": [
    {
     "data": {
      "text/html": [
       "<div>\n",
       "<style scoped>\n",
       "    .dataframe tbody tr th:only-of-type {\n",
       "        vertical-align: middle;\n",
       "    }\n",
       "\n",
       "    .dataframe tbody tr th {\n",
       "        vertical-align: top;\n",
       "    }\n",
       "\n",
       "    .dataframe thead th {\n",
       "        text-align: right;\n",
       "    }\n",
       "</style>\n",
       "<table border=\"1\" class=\"dataframe\">\n",
       "  <thead>\n",
       "    <tr style=\"text-align: right;\">\n",
       "      <th></th>\n",
       "      <th>yas</th>\n",
       "      <th>maas</th>\n",
       "      <th>calisma saati</th>\n",
       "    </tr>\n",
       "  </thead>\n",
       "  <tbody>\n",
       "    <tr>\n",
       "      <th>Şule</th>\n",
       "      <td>-0.185174</td>\n",
       "      <td>NaN</td>\n",
       "      <td>NaN</td>\n",
       "    </tr>\n",
       "    <tr>\n",
       "      <th>Hasan</th>\n",
       "      <td>NaN</td>\n",
       "      <td>NaN</td>\n",
       "      <td>NaN</td>\n",
       "    </tr>\n",
       "    <tr>\n",
       "      <th>Atıl</th>\n",
       "      <td>NaN</td>\n",
       "      <td>-0.015132</td>\n",
       "      <td>NaN</td>\n",
       "    </tr>\n",
       "    <tr>\n",
       "      <th>Mustafa</th>\n",
       "      <td>-0.161213</td>\n",
       "      <td>-0.577978</td>\n",
       "      <td>NaN</td>\n",
       "    </tr>\n",
       "  </tbody>\n",
       "</table>\n",
       "</div>"
      ],
      "text/plain": [
       "              yas      maas  calisma saati\n",
       "Şule    -0.185174       NaN            NaN\n",
       "Hasan         NaN       NaN            NaN\n",
       "Atıl          NaN -0.015132            NaN\n",
       "Mustafa -0.161213 -0.577978            NaN"
      ]
     },
     "execution_count": 35,
     "metadata": {},
     "output_type": "execute_result"
    }
   ],
   "source": [
    "yeniDataFrame[yeniDataFrame < 0 ]"
   ]
  },
  {
   "cell_type": "code",
   "execution_count": 36,
   "id": "b8670477",
   "metadata": {},
   "outputs": [
    {
     "data": {
      "text/html": [
       "<div>\n",
       "<style scoped>\n",
       "    .dataframe tbody tr th:only-of-type {\n",
       "        vertical-align: middle;\n",
       "    }\n",
       "\n",
       "    .dataframe tbody tr th {\n",
       "        vertical-align: top;\n",
       "    }\n",
       "\n",
       "    .dataframe thead th {\n",
       "        text-align: right;\n",
       "    }\n",
       "</style>\n",
       "<table border=\"1\" class=\"dataframe\">\n",
       "  <thead>\n",
       "    <tr style=\"text-align: right;\">\n",
       "      <th></th>\n",
       "      <th>yas</th>\n",
       "      <th>maas</th>\n",
       "      <th>calisma saati</th>\n",
       "    </tr>\n",
       "  </thead>\n",
       "  <tbody>\n",
       "    <tr>\n",
       "      <th>Şule</th>\n",
       "      <td>-0.185174</td>\n",
       "      <td>0.662429</td>\n",
       "      <td>1.088934</td>\n",
       "    </tr>\n",
       "    <tr>\n",
       "      <th>Hasan</th>\n",
       "      <td>1.994534</td>\n",
       "      <td>1.633293</td>\n",
       "      <td>0.146768</td>\n",
       "    </tr>\n",
       "  </tbody>\n",
       "</table>\n",
       "</div>"
      ],
      "text/plain": [
       "            yas      maas  calisma saati\n",
       "Şule  -0.185174  0.662429       1.088934\n",
       "Hasan  1.994534  1.633293       0.146768"
      ]
     },
     "execution_count": 36,
     "metadata": {},
     "output_type": "execute_result"
    }
   ],
   "source": [
    "yeniDataFrame[yeniDataFrame[\"maas\"] > 0]"
   ]
  },
  {
   "cell_type": "code",
   "execution_count": 37,
   "id": "01209d7c",
   "metadata": {},
   "outputs": [
    {
     "data": {
      "text/html": [
       "<div>\n",
       "<style scoped>\n",
       "    .dataframe tbody tr th:only-of-type {\n",
       "        vertical-align: middle;\n",
       "    }\n",
       "\n",
       "    .dataframe tbody tr th {\n",
       "        vertical-align: top;\n",
       "    }\n",
       "\n",
       "    .dataframe thead th {\n",
       "        text-align: right;\n",
       "    }\n",
       "</style>\n",
       "<table border=\"1\" class=\"dataframe\">\n",
       "  <thead>\n",
       "    <tr style=\"text-align: right;\">\n",
       "      <th></th>\n",
       "      <th>yas</th>\n",
       "      <th>maas</th>\n",
       "      <th>calisma saati</th>\n",
       "    </tr>\n",
       "  </thead>\n",
       "  <tbody>\n",
       "    <tr>\n",
       "      <th>Şule</th>\n",
       "      <td>-0.185174</td>\n",
       "      <td>0.662429</td>\n",
       "      <td>1.088934</td>\n",
       "    </tr>\n",
       "    <tr>\n",
       "      <th>Hasan</th>\n",
       "      <td>1.994534</td>\n",
       "      <td>1.633293</td>\n",
       "      <td>0.146768</td>\n",
       "    </tr>\n",
       "    <tr>\n",
       "      <th>Atıl</th>\n",
       "      <td>0.284315</td>\n",
       "      <td>-0.015132</td>\n",
       "      <td>1.133780</td>\n",
       "    </tr>\n",
       "    <tr>\n",
       "      <th>Mustafa</th>\n",
       "      <td>-0.161213</td>\n",
       "      <td>-0.577978</td>\n",
       "      <td>2.416606</td>\n",
       "    </tr>\n",
       "  </tbody>\n",
       "</table>\n",
       "</div>"
      ],
      "text/plain": [
       "              yas      maas  calisma saati\n",
       "Şule    -0.185174  0.662429       1.088934\n",
       "Hasan    1.994534  1.633293       0.146768\n",
       "Atıl     0.284315 -0.015132       1.133780\n",
       "Mustafa -0.161213 -0.577978       2.416606"
      ]
     },
     "execution_count": 37,
     "metadata": {},
     "output_type": "execute_result"
    }
   ],
   "source": [
    "yeniDataFrame\n"
   ]
  },
  {
   "cell_type": "code",
   "execution_count": 39,
   "id": "b06672d1",
   "metadata": {},
   "outputs": [
    {
     "data": {
      "text/html": [
       "<div>\n",
       "<style scoped>\n",
       "    .dataframe tbody tr th:only-of-type {\n",
       "        vertical-align: middle;\n",
       "    }\n",
       "\n",
       "    .dataframe tbody tr th {\n",
       "        vertical-align: top;\n",
       "    }\n",
       "\n",
       "    .dataframe thead th {\n",
       "        text-align: right;\n",
       "    }\n",
       "</style>\n",
       "<table border=\"1\" class=\"dataframe\">\n",
       "  <thead>\n",
       "    <tr style=\"text-align: right;\">\n",
       "      <th></th>\n",
       "      <th>index</th>\n",
       "      <th>yas</th>\n",
       "      <th>maas</th>\n",
       "      <th>calisma saati</th>\n",
       "    </tr>\n",
       "  </thead>\n",
       "  <tbody>\n",
       "    <tr>\n",
       "      <th>0</th>\n",
       "      <td>Şule</td>\n",
       "      <td>-0.185174</td>\n",
       "      <td>0.662429</td>\n",
       "      <td>1.088934</td>\n",
       "    </tr>\n",
       "    <tr>\n",
       "      <th>1</th>\n",
       "      <td>Hasan</td>\n",
       "      <td>1.994534</td>\n",
       "      <td>1.633293</td>\n",
       "      <td>0.146768</td>\n",
       "    </tr>\n",
       "    <tr>\n",
       "      <th>2</th>\n",
       "      <td>Atıl</td>\n",
       "      <td>0.284315</td>\n",
       "      <td>-0.015132</td>\n",
       "      <td>1.133780</td>\n",
       "    </tr>\n",
       "    <tr>\n",
       "      <th>3</th>\n",
       "      <td>Mustafa</td>\n",
       "      <td>-0.161213</td>\n",
       "      <td>-0.577978</td>\n",
       "      <td>2.416606</td>\n",
       "    </tr>\n",
       "  </tbody>\n",
       "</table>\n",
       "</div>"
      ],
      "text/plain": [
       "     index       yas      maas  calisma saati\n",
       "0     Şule -0.185174  0.662429       1.088934\n",
       "1    Hasan  1.994534  1.633293       0.146768\n",
       "2     Atıl  0.284315 -0.015132       1.133780\n",
       "3  Mustafa -0.161213 -0.577978       2.416606"
      ]
     },
     "execution_count": 39,
     "metadata": {},
     "output_type": "execute_result"
    }
   ],
   "source": [
    "# isim indexlerinin yanına yeniden index vermke için reset_index kullanılır.\n",
    "yeniDataFrame.reset_index()"
   ]
  },
  {
   "cell_type": "code",
   "execution_count": 40,
   "id": "a2c0720c",
   "metadata": {},
   "outputs": [
    {
     "data": {
      "text/html": [
       "<div>\n",
       "<style scoped>\n",
       "    .dataframe tbody tr th:only-of-type {\n",
       "        vertical-align: middle;\n",
       "    }\n",
       "\n",
       "    .dataframe tbody tr th {\n",
       "        vertical-align: top;\n",
       "    }\n",
       "\n",
       "    .dataframe thead th {\n",
       "        text-align: right;\n",
       "    }\n",
       "</style>\n",
       "<table border=\"1\" class=\"dataframe\">\n",
       "  <thead>\n",
       "    <tr style=\"text-align: right;\">\n",
       "      <th></th>\n",
       "      <th>yas</th>\n",
       "      <th>maas</th>\n",
       "      <th>calisma saati</th>\n",
       "    </tr>\n",
       "  </thead>\n",
       "  <tbody>\n",
       "    <tr>\n",
       "      <th>Şule</th>\n",
       "      <td>-0.185174</td>\n",
       "      <td>0.662429</td>\n",
       "      <td>1.088934</td>\n",
       "    </tr>\n",
       "    <tr>\n",
       "      <th>Hasan</th>\n",
       "      <td>1.994534</td>\n",
       "      <td>1.633293</td>\n",
       "      <td>0.146768</td>\n",
       "    </tr>\n",
       "    <tr>\n",
       "      <th>Atıl</th>\n",
       "      <td>0.284315</td>\n",
       "      <td>-0.015132</td>\n",
       "      <td>1.133780</td>\n",
       "    </tr>\n",
       "    <tr>\n",
       "      <th>Mustafa</th>\n",
       "      <td>-0.161213</td>\n",
       "      <td>-0.577978</td>\n",
       "      <td>2.416606</td>\n",
       "    </tr>\n",
       "  </tbody>\n",
       "</table>\n",
       "</div>"
      ],
      "text/plain": [
       "              yas      maas  calisma saati\n",
       "Şule    -0.185174  0.662429       1.088934\n",
       "Hasan    1.994534  1.633293       0.146768\n",
       "Atıl     0.284315 -0.015132       1.133780\n",
       "Mustafa -0.161213 -0.577978       2.416606"
      ]
     },
     "execution_count": 40,
     "metadata": {},
     "output_type": "execute_result"
    }
   ],
   "source": [
    "yeniDataFrame"
   ]
  },
  {
   "cell_type": "code",
   "execution_count": 41,
   "id": "63679857",
   "metadata": {},
   "outputs": [],
   "source": [
    "yeniIndexListesi = [\"Şu\",\"Ha\",\"At\",\"Mu\"]"
   ]
  },
  {
   "cell_type": "code",
   "execution_count": 42,
   "id": "0ef5ce39",
   "metadata": {},
   "outputs": [],
   "source": [
    "yeniDataFrame[\"yeni_index\"] = yeniIndexListesi"
   ]
  },
  {
   "cell_type": "code",
   "execution_count": 43,
   "id": "654e0548",
   "metadata": {},
   "outputs": [
    {
     "data": {
      "text/html": [
       "<div>\n",
       "<style scoped>\n",
       "    .dataframe tbody tr th:only-of-type {\n",
       "        vertical-align: middle;\n",
       "    }\n",
       "\n",
       "    .dataframe tbody tr th {\n",
       "        vertical-align: top;\n",
       "    }\n",
       "\n",
       "    .dataframe thead th {\n",
       "        text-align: right;\n",
       "    }\n",
       "</style>\n",
       "<table border=\"1\" class=\"dataframe\">\n",
       "  <thead>\n",
       "    <tr style=\"text-align: right;\">\n",
       "      <th></th>\n",
       "      <th>yas</th>\n",
       "      <th>maas</th>\n",
       "      <th>calisma saati</th>\n",
       "      <th>yeni_index</th>\n",
       "    </tr>\n",
       "  </thead>\n",
       "  <tbody>\n",
       "    <tr>\n",
       "      <th>Şule</th>\n",
       "      <td>-0.185174</td>\n",
       "      <td>0.662429</td>\n",
       "      <td>1.088934</td>\n",
       "      <td>Şu</td>\n",
       "    </tr>\n",
       "    <tr>\n",
       "      <th>Hasan</th>\n",
       "      <td>1.994534</td>\n",
       "      <td>1.633293</td>\n",
       "      <td>0.146768</td>\n",
       "      <td>Ha</td>\n",
       "    </tr>\n",
       "    <tr>\n",
       "      <th>Atıl</th>\n",
       "      <td>0.284315</td>\n",
       "      <td>-0.015132</td>\n",
       "      <td>1.133780</td>\n",
       "      <td>At</td>\n",
       "    </tr>\n",
       "    <tr>\n",
       "      <th>Mustafa</th>\n",
       "      <td>-0.161213</td>\n",
       "      <td>-0.577978</td>\n",
       "      <td>2.416606</td>\n",
       "      <td>Mu</td>\n",
       "    </tr>\n",
       "  </tbody>\n",
       "</table>\n",
       "</div>"
      ],
      "text/plain": [
       "              yas      maas  calisma saati yeni_index\n",
       "Şule    -0.185174  0.662429       1.088934         Şu\n",
       "Hasan    1.994534  1.633293       0.146768         Ha\n",
       "Atıl     0.284315 -0.015132       1.133780         At\n",
       "Mustafa -0.161213 -0.577978       2.416606         Mu"
      ]
     },
     "execution_count": 43,
     "metadata": {},
     "output_type": "execute_result"
    }
   ],
   "source": [
    "yeniDataFrame"
   ]
  },
  {
   "cell_type": "code",
   "execution_count": 45,
   "id": "95bf3d65",
   "metadata": {},
   "outputs": [
    {
     "data": {
      "text/html": [
       "<div>\n",
       "<style scoped>\n",
       "    .dataframe tbody tr th:only-of-type {\n",
       "        vertical-align: middle;\n",
       "    }\n",
       "\n",
       "    .dataframe tbody tr th {\n",
       "        vertical-align: top;\n",
       "    }\n",
       "\n",
       "    .dataframe thead th {\n",
       "        text-align: right;\n",
       "    }\n",
       "</style>\n",
       "<table border=\"1\" class=\"dataframe\">\n",
       "  <thead>\n",
       "    <tr style=\"text-align: right;\">\n",
       "      <th></th>\n",
       "      <th>yas</th>\n",
       "      <th>maas</th>\n",
       "      <th>calisma saati</th>\n",
       "    </tr>\n",
       "    <tr>\n",
       "      <th>yeni_index</th>\n",
       "      <th></th>\n",
       "      <th></th>\n",
       "      <th></th>\n",
       "    </tr>\n",
       "  </thead>\n",
       "  <tbody>\n",
       "    <tr>\n",
       "      <th>Şu</th>\n",
       "      <td>-0.185174</td>\n",
       "      <td>0.662429</td>\n",
       "      <td>1.088934</td>\n",
       "    </tr>\n",
       "    <tr>\n",
       "      <th>Ha</th>\n",
       "      <td>1.994534</td>\n",
       "      <td>1.633293</td>\n",
       "      <td>0.146768</td>\n",
       "    </tr>\n",
       "    <tr>\n",
       "      <th>At</th>\n",
       "      <td>0.284315</td>\n",
       "      <td>-0.015132</td>\n",
       "      <td>1.133780</td>\n",
       "    </tr>\n",
       "    <tr>\n",
       "      <th>Mu</th>\n",
       "      <td>-0.161213</td>\n",
       "      <td>-0.577978</td>\n",
       "      <td>2.416606</td>\n",
       "    </tr>\n",
       "  </tbody>\n",
       "</table>\n",
       "</div>"
      ],
      "text/plain": [
       "                 yas      maas  calisma saati\n",
       "yeni_index                                   \n",
       "Şu         -0.185174  0.662429       1.088934\n",
       "Ha          1.994534  1.633293       0.146768\n",
       "At          0.284315 -0.015132       1.133780\n",
       "Mu         -0.161213 -0.577978       2.416606"
      ]
     },
     "execution_count": 45,
     "metadata": {},
     "output_type": "execute_result"
    }
   ],
   "source": [
    "yeniDataFrame.set_index(\"yeni_index\")"
   ]
  },
  {
   "cell_type": "code",
   "execution_count": 46,
   "id": "6eb36513",
   "metadata": {},
   "outputs": [
    {
     "data": {
      "text/html": [
       "<div>\n",
       "<style scoped>\n",
       "    .dataframe tbody tr th:only-of-type {\n",
       "        vertical-align: middle;\n",
       "    }\n",
       "\n",
       "    .dataframe tbody tr th {\n",
       "        vertical-align: top;\n",
       "    }\n",
       "\n",
       "    .dataframe thead th {\n",
       "        text-align: right;\n",
       "    }\n",
       "</style>\n",
       "<table border=\"1\" class=\"dataframe\">\n",
       "  <thead>\n",
       "    <tr style=\"text-align: right;\">\n",
       "      <th></th>\n",
       "      <th>yas</th>\n",
       "      <th>maas</th>\n",
       "      <th>calisma saati</th>\n",
       "      <th>yeni_index</th>\n",
       "    </tr>\n",
       "  </thead>\n",
       "  <tbody>\n",
       "    <tr>\n",
       "      <th>Şule</th>\n",
       "      <td>-0.185174</td>\n",
       "      <td>0.662429</td>\n",
       "      <td>1.088934</td>\n",
       "      <td>Şu</td>\n",
       "    </tr>\n",
       "    <tr>\n",
       "      <th>Hasan</th>\n",
       "      <td>1.994534</td>\n",
       "      <td>1.633293</td>\n",
       "      <td>0.146768</td>\n",
       "      <td>Ha</td>\n",
       "    </tr>\n",
       "    <tr>\n",
       "      <th>Atıl</th>\n",
       "      <td>0.284315</td>\n",
       "      <td>-0.015132</td>\n",
       "      <td>1.133780</td>\n",
       "      <td>At</td>\n",
       "    </tr>\n",
       "    <tr>\n",
       "      <th>Mustafa</th>\n",
       "      <td>-0.161213</td>\n",
       "      <td>-0.577978</td>\n",
       "      <td>2.416606</td>\n",
       "      <td>Mu</td>\n",
       "    </tr>\n",
       "  </tbody>\n",
       "</table>\n",
       "</div>"
      ],
      "text/plain": [
       "              yas      maas  calisma saati yeni_index\n",
       "Şule    -0.185174  0.662429       1.088934         Şu\n",
       "Hasan    1.994534  1.633293       0.146768         Ha\n",
       "Atıl     0.284315 -0.015132       1.133780         At\n",
       "Mustafa -0.161213 -0.577978       2.416606         Mu"
      ]
     },
     "execution_count": 46,
     "metadata": {},
     "output_type": "execute_result"
    }
   ],
   "source": [
    "yeniDataFrame"
   ]
  },
  {
   "cell_type": "code",
   "execution_count": 47,
   "id": "38c07c8d",
   "metadata": {},
   "outputs": [],
   "source": [
    "yeniDataFrame.set_index(\"yeni_index\",inplace=True)"
   ]
  },
  {
   "cell_type": "code",
   "execution_count": 48,
   "id": "d29a9931",
   "metadata": {},
   "outputs": [
    {
     "data": {
      "text/html": [
       "<div>\n",
       "<style scoped>\n",
       "    .dataframe tbody tr th:only-of-type {\n",
       "        vertical-align: middle;\n",
       "    }\n",
       "\n",
       "    .dataframe tbody tr th {\n",
       "        vertical-align: top;\n",
       "    }\n",
       "\n",
       "    .dataframe thead th {\n",
       "        text-align: right;\n",
       "    }\n",
       "</style>\n",
       "<table border=\"1\" class=\"dataframe\">\n",
       "  <thead>\n",
       "    <tr style=\"text-align: right;\">\n",
       "      <th></th>\n",
       "      <th>yas</th>\n",
       "      <th>maas</th>\n",
       "      <th>calisma saati</th>\n",
       "    </tr>\n",
       "    <tr>\n",
       "      <th>yeni_index</th>\n",
       "      <th></th>\n",
       "      <th></th>\n",
       "      <th></th>\n",
       "    </tr>\n",
       "  </thead>\n",
       "  <tbody>\n",
       "    <tr>\n",
       "      <th>Şu</th>\n",
       "      <td>-0.185174</td>\n",
       "      <td>0.662429</td>\n",
       "      <td>1.088934</td>\n",
       "    </tr>\n",
       "    <tr>\n",
       "      <th>Ha</th>\n",
       "      <td>1.994534</td>\n",
       "      <td>1.633293</td>\n",
       "      <td>0.146768</td>\n",
       "    </tr>\n",
       "    <tr>\n",
       "      <th>At</th>\n",
       "      <td>0.284315</td>\n",
       "      <td>-0.015132</td>\n",
       "      <td>1.133780</td>\n",
       "    </tr>\n",
       "    <tr>\n",
       "      <th>Mu</th>\n",
       "      <td>-0.161213</td>\n",
       "      <td>-0.577978</td>\n",
       "      <td>2.416606</td>\n",
       "    </tr>\n",
       "  </tbody>\n",
       "</table>\n",
       "</div>"
      ],
      "text/plain": [
       "                 yas      maas  calisma saati\n",
       "yeni_index                                   \n",
       "Şu         -0.185174  0.662429       1.088934\n",
       "Ha          1.994534  1.633293       0.146768\n",
       "At          0.284315 -0.015132       1.133780\n",
       "Mu         -0.161213 -0.577978       2.416606"
      ]
     },
     "execution_count": 48,
     "metadata": {},
     "output_type": "execute_result"
    }
   ],
   "source": [
    "yeniDataFrame"
   ]
  },
  {
   "cell_type": "code",
   "execution_count": 49,
   "id": "640895a8",
   "metadata": {},
   "outputs": [
    {
     "data": {
      "text/plain": [
       "yas             -0.185174\n",
       "maas             0.662429\n",
       "calisma saati    1.088934\n",
       "Name: Şu, dtype: float64"
      ]
     },
     "execution_count": 49,
     "metadata": {},
     "output_type": "execute_result"
    }
   ],
   "source": [
    "yeniDataFrame.loc[\"Şu\"]"
   ]
  },
  {
   "cell_type": "code",
   "execution_count": 51,
   "id": "6de58976",
   "metadata": {},
   "outputs": [
    {
     "data": {
      "text/html": [
       "<div>\n",
       "<style scoped>\n",
       "    .dataframe tbody tr th:only-of-type {\n",
       "        vertical-align: middle;\n",
       "    }\n",
       "\n",
       "    .dataframe tbody tr th {\n",
       "        vertical-align: top;\n",
       "    }\n",
       "\n",
       "    .dataframe thead th {\n",
       "        text-align: right;\n",
       "    }\n",
       "</style>\n",
       "<table border=\"1\" class=\"dataframe\">\n",
       "  <thead>\n",
       "    <tr style=\"text-align: right;\">\n",
       "      <th></th>\n",
       "      <th>yas</th>\n",
       "      <th>maas</th>\n",
       "      <th>calisma saati</th>\n",
       "    </tr>\n",
       "    <tr>\n",
       "      <th>yeni_index</th>\n",
       "      <th></th>\n",
       "      <th></th>\n",
       "      <th></th>\n",
       "    </tr>\n",
       "  </thead>\n",
       "  <tbody>\n",
       "    <tr>\n",
       "      <th>Şu</th>\n",
       "      <td>-0.185174</td>\n",
       "      <td>0.662429</td>\n",
       "      <td>1.088934</td>\n",
       "    </tr>\n",
       "  </tbody>\n",
       "</table>\n",
       "</div>"
      ],
      "text/plain": [
       "                 yas      maas  calisma saati\n",
       "yeni_index                                   \n",
       "Şu         -0.185174  0.662429       1.088934"
      ]
     },
     "execution_count": 51,
     "metadata": {},
     "output_type": "execute_result"
    }
   ],
   "source": [
    "yeniDataFrame.iloc[:1, :]"
   ]
  },
  {
   "cell_type": "code",
   "execution_count": 52,
   "id": "bd124928",
   "metadata": {},
   "outputs": [
    {
     "data": {
      "text/plain": [
       "[('Simpson', 'Homer'),\n",
       " ('Simpson', 'Bart'),\n",
       " ('Simpson', 'Marge'),\n",
       " ('South Park', 'Cartman'),\n",
       " ('South Park', 'Kenny'),\n",
       " ('South Park', 'Kyle')]"
      ]
     },
     "execution_count": 52,
     "metadata": {},
     "output_type": "execute_result"
    }
   ],
   "source": [
    "ilkIndeksler = [\"Simpson\",\"Simpson\",\"Simpson\",\"South Park\", \"South Park\", \"South Park\"]\n",
    "icIndeksler = [\"Homer\",\"Bart\",\"Marge\",\"Cartman\",\"Kenny\",\"Kyle\"]\n",
    "birlesmisIndeks = list(zip(ilkIndeksler,icIndeksler))\n",
    "birlesmisIndeks"
   ]
  },
  {
   "cell_type": "code",
   "execution_count": 53,
   "id": "6ec85ec6",
   "metadata": {},
   "outputs": [],
   "source": [
    "birlesmisIndeks = pd.MultiIndex.from_tuples(birlesmisIndeks)"
   ]
  },
  {
   "cell_type": "code",
   "execution_count": 54,
   "id": "098fc137",
   "metadata": {},
   "outputs": [
    {
     "data": {
      "text/plain": [
       "MultiIndex([(   'Simpson',   'Homer'),\n",
       "            (   'Simpson',    'Bart'),\n",
       "            (   'Simpson',   'Marge'),\n",
       "            ('South Park', 'Cartman'),\n",
       "            ('South Park',   'Kenny'),\n",
       "            ('South Park',    'Kyle')],\n",
       "           )"
      ]
     },
     "execution_count": 54,
     "metadata": {},
     "output_type": "execute_result"
    }
   ],
   "source": [
    "birlesmisIndeks"
   ]
  },
  {
   "cell_type": "code",
   "execution_count": 55,
   "id": "ba7aa3f7",
   "metadata": {},
   "outputs": [],
   "source": [
    "benimCizgiFilmListem = [[40,\"A\"],[10,\"B\"],[30,\"C\"],[9,\"D\"],[10,\"E\"],[11,\"F\"]]\n",
    "cizgiFilmNumpyDizisi = np.array(benimCizgiFilmListem)"
   ]
  },
  {
   "cell_type": "code",
   "execution_count": 56,
   "id": "559c10fd",
   "metadata": {},
   "outputs": [],
   "source": [
    "cizgiFilmDataFrame = pd.DataFrame(benimCizgiFilmListem,index=birlesmisIndeks,columns=[\"Yas\", \"Meslek\"])"
   ]
  },
  {
   "cell_type": "code",
   "execution_count": 57,
   "id": "8903b324",
   "metadata": {},
   "outputs": [
    {
     "data": {
      "text/html": [
       "<div>\n",
       "<style scoped>\n",
       "    .dataframe tbody tr th:only-of-type {\n",
       "        vertical-align: middle;\n",
       "    }\n",
       "\n",
       "    .dataframe tbody tr th {\n",
       "        vertical-align: top;\n",
       "    }\n",
       "\n",
       "    .dataframe thead th {\n",
       "        text-align: right;\n",
       "    }\n",
       "</style>\n",
       "<table border=\"1\" class=\"dataframe\">\n",
       "  <thead>\n",
       "    <tr style=\"text-align: right;\">\n",
       "      <th></th>\n",
       "      <th></th>\n",
       "      <th>Yas</th>\n",
       "      <th>Meslek</th>\n",
       "    </tr>\n",
       "  </thead>\n",
       "  <tbody>\n",
       "    <tr>\n",
       "      <th rowspan=\"3\" valign=\"top\">Simpson</th>\n",
       "      <th>Homer</th>\n",
       "      <td>40</td>\n",
       "      <td>A</td>\n",
       "    </tr>\n",
       "    <tr>\n",
       "      <th>Bart</th>\n",
       "      <td>10</td>\n",
       "      <td>B</td>\n",
       "    </tr>\n",
       "    <tr>\n",
       "      <th>Marge</th>\n",
       "      <td>30</td>\n",
       "      <td>C</td>\n",
       "    </tr>\n",
       "    <tr>\n",
       "      <th rowspan=\"3\" valign=\"top\">South Park</th>\n",
       "      <th>Cartman</th>\n",
       "      <td>9</td>\n",
       "      <td>D</td>\n",
       "    </tr>\n",
       "    <tr>\n",
       "      <th>Kenny</th>\n",
       "      <td>10</td>\n",
       "      <td>E</td>\n",
       "    </tr>\n",
       "    <tr>\n",
       "      <th>Kyle</th>\n",
       "      <td>11</td>\n",
       "      <td>F</td>\n",
       "    </tr>\n",
       "  </tbody>\n",
       "</table>\n",
       "</div>"
      ],
      "text/plain": [
       "                    Yas Meslek\n",
       "Simpson    Homer     40      A\n",
       "           Bart      10      B\n",
       "           Marge     30      C\n",
       "South Park Cartman    9      D\n",
       "           Kenny     10      E\n",
       "           Kyle      11      F"
      ]
     },
     "execution_count": 57,
     "metadata": {},
     "output_type": "execute_result"
    }
   ],
   "source": [
    "cizgiFilmDataFrame"
   ]
  },
  {
   "cell_type": "code",
   "execution_count": 58,
   "id": "203cefb3",
   "metadata": {},
   "outputs": [
    {
     "data": {
      "text/html": [
       "<div>\n",
       "<style scoped>\n",
       "    .dataframe tbody tr th:only-of-type {\n",
       "        vertical-align: middle;\n",
       "    }\n",
       "\n",
       "    .dataframe tbody tr th {\n",
       "        vertical-align: top;\n",
       "    }\n",
       "\n",
       "    .dataframe thead th {\n",
       "        text-align: right;\n",
       "    }\n",
       "</style>\n",
       "<table border=\"1\" class=\"dataframe\">\n",
       "  <thead>\n",
       "    <tr style=\"text-align: right;\">\n",
       "      <th></th>\n",
       "      <th>Yas</th>\n",
       "      <th>Meslek</th>\n",
       "    </tr>\n",
       "  </thead>\n",
       "  <tbody>\n",
       "    <tr>\n",
       "      <th>Homer</th>\n",
       "      <td>40</td>\n",
       "      <td>A</td>\n",
       "    </tr>\n",
       "    <tr>\n",
       "      <th>Bart</th>\n",
       "      <td>10</td>\n",
       "      <td>B</td>\n",
       "    </tr>\n",
       "    <tr>\n",
       "      <th>Marge</th>\n",
       "      <td>30</td>\n",
       "      <td>C</td>\n",
       "    </tr>\n",
       "  </tbody>\n",
       "</table>\n",
       "</div>"
      ],
      "text/plain": [
       "       Yas Meslek\n",
       "Homer   40      A\n",
       "Bart    10      B\n",
       "Marge   30      C"
      ]
     },
     "execution_count": 58,
     "metadata": {},
     "output_type": "execute_result"
    }
   ],
   "source": [
    "cizgiFilmDataFrame.loc[\"Simpson\"]"
   ]
  },
  {
   "cell_type": "code",
   "execution_count": 63,
   "id": "29699b14",
   "metadata": {},
   "outputs": [],
   "source": [
    "cizgiFilmDataFrame.index.names = [\"Film Adı\",\"İsim\"]"
   ]
  },
  {
   "cell_type": "code",
   "execution_count": 64,
   "id": "6658d5d8",
   "metadata": {},
   "outputs": [
    {
     "data": {
      "text/html": [
       "<div>\n",
       "<style scoped>\n",
       "    .dataframe tbody tr th:only-of-type {\n",
       "        vertical-align: middle;\n",
       "    }\n",
       "\n",
       "    .dataframe tbody tr th {\n",
       "        vertical-align: top;\n",
       "    }\n",
       "\n",
       "    .dataframe thead th {\n",
       "        text-align: right;\n",
       "    }\n",
       "</style>\n",
       "<table border=\"1\" class=\"dataframe\">\n",
       "  <thead>\n",
       "    <tr style=\"text-align: right;\">\n",
       "      <th></th>\n",
       "      <th></th>\n",
       "      <th>Yas</th>\n",
       "      <th>Meslek</th>\n",
       "    </tr>\n",
       "    <tr>\n",
       "      <th>Film Adı</th>\n",
       "      <th>İsim</th>\n",
       "      <th></th>\n",
       "      <th></th>\n",
       "    </tr>\n",
       "  </thead>\n",
       "  <tbody>\n",
       "    <tr>\n",
       "      <th rowspan=\"3\" valign=\"top\">Simpson</th>\n",
       "      <th>Homer</th>\n",
       "      <td>40</td>\n",
       "      <td>A</td>\n",
       "    </tr>\n",
       "    <tr>\n",
       "      <th>Bart</th>\n",
       "      <td>10</td>\n",
       "      <td>B</td>\n",
       "    </tr>\n",
       "    <tr>\n",
       "      <th>Marge</th>\n",
       "      <td>30</td>\n",
       "      <td>C</td>\n",
       "    </tr>\n",
       "    <tr>\n",
       "      <th rowspan=\"3\" valign=\"top\">South Park</th>\n",
       "      <th>Cartman</th>\n",
       "      <td>9</td>\n",
       "      <td>D</td>\n",
       "    </tr>\n",
       "    <tr>\n",
       "      <th>Kenny</th>\n",
       "      <td>10</td>\n",
       "      <td>E</td>\n",
       "    </tr>\n",
       "    <tr>\n",
       "      <th>Kyle</th>\n",
       "      <td>11</td>\n",
       "      <td>F</td>\n",
       "    </tr>\n",
       "  </tbody>\n",
       "</table>\n",
       "</div>"
      ],
      "text/plain": [
       "                    Yas Meslek\n",
       "Film Adı   İsim               \n",
       "Simpson    Homer     40      A\n",
       "           Bart      10      B\n",
       "           Marge     30      C\n",
       "South Park Cartman    9      D\n",
       "           Kenny     10      E\n",
       "           Kyle      11      F"
      ]
     },
     "execution_count": 64,
     "metadata": {},
     "output_type": "execute_result"
    }
   ],
   "source": [
    "cizgiFilmDataFrame"
   ]
  },
  {
   "cell_type": "code",
   "execution_count": null,
   "id": "1876ed3a",
   "metadata": {},
   "outputs": [],
   "source": []
  }
 ],
 "metadata": {
  "kernelspec": {
   "display_name": "Python 3 (ipykernel)",
   "language": "python",
   "name": "python3"
  },
  "language_info": {
   "codemirror_mode": {
    "name": "ipython",
    "version": 3
   },
   "file_extension": ".py",
   "mimetype": "text/x-python",
   "name": "python",
   "nbconvert_exporter": "python",
   "pygments_lexer": "ipython3",
   "version": "3.10.9"
  }
 },
 "nbformat": 4,
 "nbformat_minor": 5
}
